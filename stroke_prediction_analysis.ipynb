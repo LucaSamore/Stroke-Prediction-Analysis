{
  "nbformat": 4,
  "nbformat_minor": 0,
  "metadata": {
    "colab": {
      "provenance": [],
      "authorship_tag": "ABX9TyMFYPf1e/2GQJ+ie5q9B09W",
      "include_colab_link": true
    },
    "kernelspec": {
      "name": "python3",
      "display_name": "Python 3"
    },
    "language_info": {
      "name": "python"
    }
  },
  "cells": [
    {
      "cell_type": "markdown",
      "metadata": {
        "id": "view-in-github",
        "colab_type": "text"
      },
      "source": [
        "<a href=\"https://colab.research.google.com/github/LucaSamore/Stroke-Prediction-Analysis/blob/main/stroke_prediction_analysis.ipynb\" target=\"_parent\"><img src=\"https://colab.research.google.com/assets/colab-badge.svg\" alt=\"Open In Colab\"/></a>"
      ]
    },
    {
      "cell_type": "markdown",
      "source": [
        "# Predizione di ictus in base ai dati di un paziente\n",
        "**Progetto di Programmazione di Applicazioni Data Intensive a.a 2022/23**\n",
        "\n",
        "Luca Samorè\n",
        "\n",
        "luca.samore@studio.unibo.it"
      ],
      "metadata": {
        "id": "2b1b6l__W3vg"
      }
    },
    {
      "cell_type": "code",
      "source": [
        "import numpy as np\n",
        "import pandas as pd\n",
        "import matplotlib.pyplot as plt\n",
        "import seaborn as sns"
      ],
      "metadata": {
        "id": "n6_-u6n4baWE"
      },
      "execution_count": 150,
      "outputs": []
    },
    {
      "cell_type": "markdown",
      "source": [
        "## Introduzione\n",
        "Nel presente progetto vengono analizzati vari modelli di classificazione per prevedere quanto è probabile che un paziente venga colpito da un ictus. Il dataset, ottenuto da [Kaggle](https://www.kaggle.com/datasets/fedesoriano/stroke-prediction-dataset), contiene oltre 5000 record di pazienti, alcuni dei quali sono stati colpiti da tale evento neurologico. L’obiettivo, dunque, è quello di prevedere una variabile discreta binaria.\n"
      ],
      "metadata": {
        "id": "0XvIFje6XNp2"
      }
    },
    {
      "cell_type": "code",
      "source": [
        "dataset = pd.read_csv('healthcare-dataset-stroke-data.csv', sep=',')"
      ],
      "metadata": {
        "id": "wD0VK_8Dbl1e"
      },
      "execution_count": 151,
      "outputs": []
    },
    {
      "cell_type": "markdown",
      "source": [
        "## Analisi delle feature"
      ],
      "metadata": {
        "id": "vX0ZtjhYf0h-"
      }
    },
    {
      "cell_type": "code",
      "source": [
        "dataset.head()"
      ],
      "metadata": {
        "colab": {
          "base_uri": "https://localhost:8080/",
          "height": 206
        },
        "id": "-xfqvAJhhGf6",
        "outputId": "5dd84b17-3f83-4a49-f541-f78856e4c9c4"
      },
      "execution_count": 152,
      "outputs": [
        {
          "output_type": "execute_result",
          "data": {
            "text/plain": [
              "      id  gender   age  hypertension  heart_disease ever_married  \\\n",
              "0   9046    Male  67.0             0              1          Yes   \n",
              "1  51676  Female  61.0             0              0          Yes   \n",
              "2  31112    Male  80.0             0              1          Yes   \n",
              "3  60182  Female  49.0             0              0          Yes   \n",
              "4   1665  Female  79.0             1              0          Yes   \n",
              "\n",
              "       work_type Residence_type  avg_glucose_level   bmi   smoking_status  \\\n",
              "0        Private          Urban             228.69  36.6  formerly smoked   \n",
              "1  Self-employed          Rural             202.21   NaN     never smoked   \n",
              "2        Private          Rural             105.92  32.5     never smoked   \n",
              "3        Private          Urban             171.23  34.4           smokes   \n",
              "4  Self-employed          Rural             174.12  24.0     never smoked   \n",
              "\n",
              "   stroke  \n",
              "0       1  \n",
              "1       1  \n",
              "2       1  \n",
              "3       1  \n",
              "4       1  "
            ],
            "text/html": [
              "\n",
              "  <div id=\"df-7035b11c-375f-48a2-9f24-dc2676a216db\">\n",
              "    <div class=\"colab-df-container\">\n",
              "      <div>\n",
              "<style scoped>\n",
              "    .dataframe tbody tr th:only-of-type {\n",
              "        vertical-align: middle;\n",
              "    }\n",
              "\n",
              "    .dataframe tbody tr th {\n",
              "        vertical-align: top;\n",
              "    }\n",
              "\n",
              "    .dataframe thead th {\n",
              "        text-align: right;\n",
              "    }\n",
              "</style>\n",
              "<table border=\"1\" class=\"dataframe\">\n",
              "  <thead>\n",
              "    <tr style=\"text-align: right;\">\n",
              "      <th></th>\n",
              "      <th>id</th>\n",
              "      <th>gender</th>\n",
              "      <th>age</th>\n",
              "      <th>hypertension</th>\n",
              "      <th>heart_disease</th>\n",
              "      <th>ever_married</th>\n",
              "      <th>work_type</th>\n",
              "      <th>Residence_type</th>\n",
              "      <th>avg_glucose_level</th>\n",
              "      <th>bmi</th>\n",
              "      <th>smoking_status</th>\n",
              "      <th>stroke</th>\n",
              "    </tr>\n",
              "  </thead>\n",
              "  <tbody>\n",
              "    <tr>\n",
              "      <th>0</th>\n",
              "      <td>9046</td>\n",
              "      <td>Male</td>\n",
              "      <td>67.0</td>\n",
              "      <td>0</td>\n",
              "      <td>1</td>\n",
              "      <td>Yes</td>\n",
              "      <td>Private</td>\n",
              "      <td>Urban</td>\n",
              "      <td>228.69</td>\n",
              "      <td>36.6</td>\n",
              "      <td>formerly smoked</td>\n",
              "      <td>1</td>\n",
              "    </tr>\n",
              "    <tr>\n",
              "      <th>1</th>\n",
              "      <td>51676</td>\n",
              "      <td>Female</td>\n",
              "      <td>61.0</td>\n",
              "      <td>0</td>\n",
              "      <td>0</td>\n",
              "      <td>Yes</td>\n",
              "      <td>Self-employed</td>\n",
              "      <td>Rural</td>\n",
              "      <td>202.21</td>\n",
              "      <td>NaN</td>\n",
              "      <td>never smoked</td>\n",
              "      <td>1</td>\n",
              "    </tr>\n",
              "    <tr>\n",
              "      <th>2</th>\n",
              "      <td>31112</td>\n",
              "      <td>Male</td>\n",
              "      <td>80.0</td>\n",
              "      <td>0</td>\n",
              "      <td>1</td>\n",
              "      <td>Yes</td>\n",
              "      <td>Private</td>\n",
              "      <td>Rural</td>\n",
              "      <td>105.92</td>\n",
              "      <td>32.5</td>\n",
              "      <td>never smoked</td>\n",
              "      <td>1</td>\n",
              "    </tr>\n",
              "    <tr>\n",
              "      <th>3</th>\n",
              "      <td>60182</td>\n",
              "      <td>Female</td>\n",
              "      <td>49.0</td>\n",
              "      <td>0</td>\n",
              "      <td>0</td>\n",
              "      <td>Yes</td>\n",
              "      <td>Private</td>\n",
              "      <td>Urban</td>\n",
              "      <td>171.23</td>\n",
              "      <td>34.4</td>\n",
              "      <td>smokes</td>\n",
              "      <td>1</td>\n",
              "    </tr>\n",
              "    <tr>\n",
              "      <th>4</th>\n",
              "      <td>1665</td>\n",
              "      <td>Female</td>\n",
              "      <td>79.0</td>\n",
              "      <td>1</td>\n",
              "      <td>0</td>\n",
              "      <td>Yes</td>\n",
              "      <td>Self-employed</td>\n",
              "      <td>Rural</td>\n",
              "      <td>174.12</td>\n",
              "      <td>24.0</td>\n",
              "      <td>never smoked</td>\n",
              "      <td>1</td>\n",
              "    </tr>\n",
              "  </tbody>\n",
              "</table>\n",
              "</div>\n",
              "      <button class=\"colab-df-convert\" onclick=\"convertToInteractive('df-7035b11c-375f-48a2-9f24-dc2676a216db')\"\n",
              "              title=\"Convert this dataframe to an interactive table.\"\n",
              "              style=\"display:none;\">\n",
              "        \n",
              "  <svg xmlns=\"http://www.w3.org/2000/svg\" height=\"24px\"viewBox=\"0 0 24 24\"\n",
              "       width=\"24px\">\n",
              "    <path d=\"M0 0h24v24H0V0z\" fill=\"none\"/>\n",
              "    <path d=\"M18.56 5.44l.94 2.06.94-2.06 2.06-.94-2.06-.94-.94-2.06-.94 2.06-2.06.94zm-11 1L8.5 8.5l.94-2.06 2.06-.94-2.06-.94L8.5 2.5l-.94 2.06-2.06.94zm10 10l.94 2.06.94-2.06 2.06-.94-2.06-.94-.94-2.06-.94 2.06-2.06.94z\"/><path d=\"M17.41 7.96l-1.37-1.37c-.4-.4-.92-.59-1.43-.59-.52 0-1.04.2-1.43.59L10.3 9.45l-7.72 7.72c-.78.78-.78 2.05 0 2.83L4 21.41c.39.39.9.59 1.41.59.51 0 1.02-.2 1.41-.59l7.78-7.78 2.81-2.81c.8-.78.8-2.07 0-2.86zM5.41 20L4 18.59l7.72-7.72 1.47 1.35L5.41 20z\"/>\n",
              "  </svg>\n",
              "      </button>\n",
              "      \n",
              "  <style>\n",
              "    .colab-df-container {\n",
              "      display:flex;\n",
              "      flex-wrap:wrap;\n",
              "      gap: 12px;\n",
              "    }\n",
              "\n",
              "    .colab-df-convert {\n",
              "      background-color: #E8F0FE;\n",
              "      border: none;\n",
              "      border-radius: 50%;\n",
              "      cursor: pointer;\n",
              "      display: none;\n",
              "      fill: #1967D2;\n",
              "      height: 32px;\n",
              "      padding: 0 0 0 0;\n",
              "      width: 32px;\n",
              "    }\n",
              "\n",
              "    .colab-df-convert:hover {\n",
              "      background-color: #E2EBFA;\n",
              "      box-shadow: 0px 1px 2px rgba(60, 64, 67, 0.3), 0px 1px 3px 1px rgba(60, 64, 67, 0.15);\n",
              "      fill: #174EA6;\n",
              "    }\n",
              "\n",
              "    [theme=dark] .colab-df-convert {\n",
              "      background-color: #3B4455;\n",
              "      fill: #D2E3FC;\n",
              "    }\n",
              "\n",
              "    [theme=dark] .colab-df-convert:hover {\n",
              "      background-color: #434B5C;\n",
              "      box-shadow: 0px 1px 3px 1px rgba(0, 0, 0, 0.15);\n",
              "      filter: drop-shadow(0px 1px 2px rgba(0, 0, 0, 0.3));\n",
              "      fill: #FFFFFF;\n",
              "    }\n",
              "  </style>\n",
              "\n",
              "      <script>\n",
              "        const buttonEl =\n",
              "          document.querySelector('#df-7035b11c-375f-48a2-9f24-dc2676a216db button.colab-df-convert');\n",
              "        buttonEl.style.display =\n",
              "          google.colab.kernel.accessAllowed ? 'block' : 'none';\n",
              "\n",
              "        async function convertToInteractive(key) {\n",
              "          const element = document.querySelector('#df-7035b11c-375f-48a2-9f24-dc2676a216db');\n",
              "          const dataTable =\n",
              "            await google.colab.kernel.invokeFunction('convertToInteractive',\n",
              "                                                     [key], {});\n",
              "          if (!dataTable) return;\n",
              "\n",
              "          const docLinkHtml = 'Like what you see? Visit the ' +\n",
              "            '<a target=\"_blank\" href=https://colab.research.google.com/notebooks/data_table.ipynb>data table notebook</a>'\n",
              "            + ' to learn more about interactive tables.';\n",
              "          element.innerHTML = '';\n",
              "          dataTable['output_type'] = 'display_data';\n",
              "          await google.colab.output.renderOutput(dataTable, element);\n",
              "          const docLink = document.createElement('div');\n",
              "          docLink.innerHTML = docLinkHtml;\n",
              "          element.appendChild(docLink);\n",
              "        }\n",
              "      </script>\n",
              "    </div>\n",
              "  </div>\n",
              "  "
            ]
          },
          "metadata": {},
          "execution_count": 152
        }
      ]
    },
    {
      "cell_type": "markdown",
      "source": [
        "**Variabili categoriche**\n",
        "- `gender`: sesso del paziente\n",
        "  - \"Male\"\n",
        "  - \"Female\"\n",
        "  - \"Other\"\n",
        "- `work_type`: tipologia di impiego del paziente\n",
        "  - \"children\"\n",
        "  - \"Govt_jov\"\n",
        "  - \"Never_worked\"\n",
        "  - \"Private\"\n",
        "  - \"Self-employed\"\n",
        "- `Residence_type`: tipologia di residenza del paziente\n",
        "  - \"Rural\"\n",
        "  - \"Urban\"\n",
        "- `smoking_status`: stato di fumatore\n",
        "  - \"formerly smoked\"\n",
        "  - \"never smoked\"\n",
        "  - \"smokes\"\n",
        "  - \"Unknown\"\n",
        "- `ever_married`: \"Yes\" se il paziente è mai stato sposato, \"No\" altrimenti\n",
        "- `hypertension`: 1 se il paziente è affetto da ipertensione, 0 altrimenti\n",
        "- `heart_disease`: 1 se il paziente ha complicanze cardiache, 0 altrimenti\n",
        "- `stroke`: 1 se il paziente è stato colpito da ictus, 0 altrimenti\n",
        "\n",
        "**Variabili numeriche**\n",
        "- `id`: identificatore univoco del paziente\n",
        "- `age`: età del paziente\n",
        "- `avg_glucose_level`: livello medio di glucosio nel sangue\n",
        "- `bmi`: indice di massa corporea\n",
        "\n",
        "La variabile target è `stroke` che vale 1 se il paziente è stato colpito da ictus, 0 altrimenti.\n"
      ],
      "metadata": {
        "id": "3ZFs9cophgDd"
      }
    },
    {
      "cell_type": "code",
      "source": [
        "dataset.info(memory_usage='deep');"
      ],
      "metadata": {
        "colab": {
          "base_uri": "https://localhost:8080/"
        },
        "id": "ycWFyrm5ljd2",
        "outputId": "499abd3d-f832-4d51-e0e9-9f9f6939d1ad"
      },
      "execution_count": 153,
      "outputs": [
        {
          "output_type": "stream",
          "name": "stdout",
          "text": [
            "<class 'pandas.core.frame.DataFrame'>\n",
            "RangeIndex: 5110 entries, 0 to 5109\n",
            "Data columns (total 12 columns):\n",
            " #   Column             Non-Null Count  Dtype  \n",
            "---  ------             --------------  -----  \n",
            " 0   id                 5110 non-null   int64  \n",
            " 1   gender             5110 non-null   object \n",
            " 2   age                5110 non-null   float64\n",
            " 3   hypertension       5110 non-null   int64  \n",
            " 4   heart_disease      5110 non-null   int64  \n",
            " 5   ever_married       5110 non-null   object \n",
            " 6   work_type          5110 non-null   object \n",
            " 7   Residence_type     5110 non-null   object \n",
            " 8   avg_glucose_level  5110 non-null   float64\n",
            " 9   bmi                4909 non-null   float64\n",
            " 10  smoking_status     5110 non-null   object \n",
            " 11  stroke             5110 non-null   int64  \n",
            "dtypes: float64(3), int64(4), object(5)\n",
            "memory usage: 1.8 MB\n"
          ]
        }
      ]
    },
    {
      "cell_type": "markdown",
      "source": [
        "Siccome alcune variabili categoriche sono di tipo object (`gender`, `ever_married`, `work_type`, `Residence_type`, `smoking_status`) e intero (`hypertension`, `heart_disease`, `stroke`), per consumare meno memoria, ricarichiamo il dataset modificando il loro tipo come categorico."
      ],
      "metadata": {
        "id": "C0_uQUEYolKl"
      }
    },
    {
      "cell_type": "code",
      "source": [
        "categorical_features = [\n",
        "    'gender',\n",
        "    'hypertension',\n",
        "    'heart_disease',\n",
        "    'ever_married',\n",
        "    'work_type',\n",
        "    'Residence_type',\n",
        "    'smoking_status',\n",
        "    'stroke',\n",
        "]"
      ],
      "metadata": {
        "id": "XFfiKlE3oVJo"
      },
      "execution_count": 154,
      "outputs": []
    },
    {
      "cell_type": "code",
      "source": [
        "dataset = pd.read_csv(\n",
        "    'healthcare-dataset-stroke-data.csv',\n",
        "    sep=',',\n",
        "    dtype={c: 'category' for c in categorical_features}\n",
        ")"
      ],
      "metadata": {
        "id": "fW3gBf7vqQeP"
      },
      "execution_count": 155,
      "outputs": []
    },
    {
      "cell_type": "code",
      "source": [
        "dataset.info(memory_usage='deep');"
      ],
      "metadata": {
        "colab": {
          "base_uri": "https://localhost:8080/"
        },
        "id": "VOXiYf6GqxS6",
        "outputId": "13bfaf02-59e3-4b55-8020-4897a2e9ec11"
      },
      "execution_count": 156,
      "outputs": [
        {
          "output_type": "stream",
          "name": "stdout",
          "text": [
            "<class 'pandas.core.frame.DataFrame'>\n",
            "RangeIndex: 5110 entries, 0 to 5109\n",
            "Data columns (total 12 columns):\n",
            " #   Column             Non-Null Count  Dtype   \n",
            "---  ------             --------------  -----   \n",
            " 0   id                 5110 non-null   int64   \n",
            " 1   gender             5110 non-null   category\n",
            " 2   age                5110 non-null   float64 \n",
            " 3   hypertension       5110 non-null   category\n",
            " 4   heart_disease      5110 non-null   category\n",
            " 5   ever_married       5110 non-null   category\n",
            " 6   work_type          5110 non-null   category\n",
            " 7   Residence_type     5110 non-null   category\n",
            " 8   avg_glucose_level  5110 non-null   float64 \n",
            " 9   bmi                4909 non-null   float64 \n",
            " 10  smoking_status     5110 non-null   category\n",
            " 11  stroke             5110 non-null   category\n",
            "dtypes: category(8), float64(3), int64(1)\n",
            "memory usage: 201.9 KB\n"
          ]
        }
      ]
    },
    {
      "cell_type": "markdown",
      "source": [
        "Notiamo che il consumo di memoria è stato ridotto significativamente."
      ],
      "metadata": {
        "id": "iCh1ikwerv7T"
      }
    },
    {
      "cell_type": "markdown",
      "source": [
        "La colonna `id` contiene un identificatore univoco per ogni paziente. Essa è irrilevante ai fini della predizione, perciò la possiamo eliminare o utilizzare come indice del dataframe. Procediamo con la seconda soluzione."
      ],
      "metadata": {
        "id": "PhcsuHaSk5Ww"
      }
    },
    {
      "cell_type": "code",
      "source": [
        "dataset.set_index('id', inplace=True)\n",
        "dataset.head()"
      ],
      "metadata": {
        "colab": {
          "base_uri": "https://localhost:8080/",
          "height": 238
        },
        "id": "8_BxvHrYi2xQ",
        "outputId": "66199545-4d09-4d75-f5eb-2c2df3b2a468"
      },
      "execution_count": 157,
      "outputs": [
        {
          "output_type": "execute_result",
          "data": {
            "text/plain": [
              "       gender   age hypertension heart_disease ever_married      work_type  \\\n",
              "id                                                                           \n",
              "9046     Male  67.0            0             1          Yes        Private   \n",
              "51676  Female  61.0            0             0          Yes  Self-employed   \n",
              "31112    Male  80.0            0             1          Yes        Private   \n",
              "60182  Female  49.0            0             0          Yes        Private   \n",
              "1665   Female  79.0            1             0          Yes  Self-employed   \n",
              "\n",
              "      Residence_type  avg_glucose_level   bmi   smoking_status stroke  \n",
              "id                                                                     \n",
              "9046           Urban             228.69  36.6  formerly smoked      1  \n",
              "51676          Rural             202.21   NaN     never smoked      1  \n",
              "31112          Rural             105.92  32.5     never smoked      1  \n",
              "60182          Urban             171.23  34.4           smokes      1  \n",
              "1665           Rural             174.12  24.0     never smoked      1  "
            ],
            "text/html": [
              "\n",
              "  <div id=\"df-a5084ac1-3c56-4ea4-9fa0-cfd60631e717\">\n",
              "    <div class=\"colab-df-container\">\n",
              "      <div>\n",
              "<style scoped>\n",
              "    .dataframe tbody tr th:only-of-type {\n",
              "        vertical-align: middle;\n",
              "    }\n",
              "\n",
              "    .dataframe tbody tr th {\n",
              "        vertical-align: top;\n",
              "    }\n",
              "\n",
              "    .dataframe thead th {\n",
              "        text-align: right;\n",
              "    }\n",
              "</style>\n",
              "<table border=\"1\" class=\"dataframe\">\n",
              "  <thead>\n",
              "    <tr style=\"text-align: right;\">\n",
              "      <th></th>\n",
              "      <th>gender</th>\n",
              "      <th>age</th>\n",
              "      <th>hypertension</th>\n",
              "      <th>heart_disease</th>\n",
              "      <th>ever_married</th>\n",
              "      <th>work_type</th>\n",
              "      <th>Residence_type</th>\n",
              "      <th>avg_glucose_level</th>\n",
              "      <th>bmi</th>\n",
              "      <th>smoking_status</th>\n",
              "      <th>stroke</th>\n",
              "    </tr>\n",
              "    <tr>\n",
              "      <th>id</th>\n",
              "      <th></th>\n",
              "      <th></th>\n",
              "      <th></th>\n",
              "      <th></th>\n",
              "      <th></th>\n",
              "      <th></th>\n",
              "      <th></th>\n",
              "      <th></th>\n",
              "      <th></th>\n",
              "      <th></th>\n",
              "      <th></th>\n",
              "    </tr>\n",
              "  </thead>\n",
              "  <tbody>\n",
              "    <tr>\n",
              "      <th>9046</th>\n",
              "      <td>Male</td>\n",
              "      <td>67.0</td>\n",
              "      <td>0</td>\n",
              "      <td>1</td>\n",
              "      <td>Yes</td>\n",
              "      <td>Private</td>\n",
              "      <td>Urban</td>\n",
              "      <td>228.69</td>\n",
              "      <td>36.6</td>\n",
              "      <td>formerly smoked</td>\n",
              "      <td>1</td>\n",
              "    </tr>\n",
              "    <tr>\n",
              "      <th>51676</th>\n",
              "      <td>Female</td>\n",
              "      <td>61.0</td>\n",
              "      <td>0</td>\n",
              "      <td>0</td>\n",
              "      <td>Yes</td>\n",
              "      <td>Self-employed</td>\n",
              "      <td>Rural</td>\n",
              "      <td>202.21</td>\n",
              "      <td>NaN</td>\n",
              "      <td>never smoked</td>\n",
              "      <td>1</td>\n",
              "    </tr>\n",
              "    <tr>\n",
              "      <th>31112</th>\n",
              "      <td>Male</td>\n",
              "      <td>80.0</td>\n",
              "      <td>0</td>\n",
              "      <td>1</td>\n",
              "      <td>Yes</td>\n",
              "      <td>Private</td>\n",
              "      <td>Rural</td>\n",
              "      <td>105.92</td>\n",
              "      <td>32.5</td>\n",
              "      <td>never smoked</td>\n",
              "      <td>1</td>\n",
              "    </tr>\n",
              "    <tr>\n",
              "      <th>60182</th>\n",
              "      <td>Female</td>\n",
              "      <td>49.0</td>\n",
              "      <td>0</td>\n",
              "      <td>0</td>\n",
              "      <td>Yes</td>\n",
              "      <td>Private</td>\n",
              "      <td>Urban</td>\n",
              "      <td>171.23</td>\n",
              "      <td>34.4</td>\n",
              "      <td>smokes</td>\n",
              "      <td>1</td>\n",
              "    </tr>\n",
              "    <tr>\n",
              "      <th>1665</th>\n",
              "      <td>Female</td>\n",
              "      <td>79.0</td>\n",
              "      <td>1</td>\n",
              "      <td>0</td>\n",
              "      <td>Yes</td>\n",
              "      <td>Self-employed</td>\n",
              "      <td>Rural</td>\n",
              "      <td>174.12</td>\n",
              "      <td>24.0</td>\n",
              "      <td>never smoked</td>\n",
              "      <td>1</td>\n",
              "    </tr>\n",
              "  </tbody>\n",
              "</table>\n",
              "</div>\n",
              "      <button class=\"colab-df-convert\" onclick=\"convertToInteractive('df-a5084ac1-3c56-4ea4-9fa0-cfd60631e717')\"\n",
              "              title=\"Convert this dataframe to an interactive table.\"\n",
              "              style=\"display:none;\">\n",
              "        \n",
              "  <svg xmlns=\"http://www.w3.org/2000/svg\" height=\"24px\"viewBox=\"0 0 24 24\"\n",
              "       width=\"24px\">\n",
              "    <path d=\"M0 0h24v24H0V0z\" fill=\"none\"/>\n",
              "    <path d=\"M18.56 5.44l.94 2.06.94-2.06 2.06-.94-2.06-.94-.94-2.06-.94 2.06-2.06.94zm-11 1L8.5 8.5l.94-2.06 2.06-.94-2.06-.94L8.5 2.5l-.94 2.06-2.06.94zm10 10l.94 2.06.94-2.06 2.06-.94-2.06-.94-.94-2.06-.94 2.06-2.06.94z\"/><path d=\"M17.41 7.96l-1.37-1.37c-.4-.4-.92-.59-1.43-.59-.52 0-1.04.2-1.43.59L10.3 9.45l-7.72 7.72c-.78.78-.78 2.05 0 2.83L4 21.41c.39.39.9.59 1.41.59.51 0 1.02-.2 1.41-.59l7.78-7.78 2.81-2.81c.8-.78.8-2.07 0-2.86zM5.41 20L4 18.59l7.72-7.72 1.47 1.35L5.41 20z\"/>\n",
              "  </svg>\n",
              "      </button>\n",
              "      \n",
              "  <style>\n",
              "    .colab-df-container {\n",
              "      display:flex;\n",
              "      flex-wrap:wrap;\n",
              "      gap: 12px;\n",
              "    }\n",
              "\n",
              "    .colab-df-convert {\n",
              "      background-color: #E8F0FE;\n",
              "      border: none;\n",
              "      border-radius: 50%;\n",
              "      cursor: pointer;\n",
              "      display: none;\n",
              "      fill: #1967D2;\n",
              "      height: 32px;\n",
              "      padding: 0 0 0 0;\n",
              "      width: 32px;\n",
              "    }\n",
              "\n",
              "    .colab-df-convert:hover {\n",
              "      background-color: #E2EBFA;\n",
              "      box-shadow: 0px 1px 2px rgba(60, 64, 67, 0.3), 0px 1px 3px 1px rgba(60, 64, 67, 0.15);\n",
              "      fill: #174EA6;\n",
              "    }\n",
              "\n",
              "    [theme=dark] .colab-df-convert {\n",
              "      background-color: #3B4455;\n",
              "      fill: #D2E3FC;\n",
              "    }\n",
              "\n",
              "    [theme=dark] .colab-df-convert:hover {\n",
              "      background-color: #434B5C;\n",
              "      box-shadow: 0px 1px 3px 1px rgba(0, 0, 0, 0.15);\n",
              "      filter: drop-shadow(0px 1px 2px rgba(0, 0, 0, 0.3));\n",
              "      fill: #FFFFFF;\n",
              "    }\n",
              "  </style>\n",
              "\n",
              "      <script>\n",
              "        const buttonEl =\n",
              "          document.querySelector('#df-a5084ac1-3c56-4ea4-9fa0-cfd60631e717 button.colab-df-convert');\n",
              "        buttonEl.style.display =\n",
              "          google.colab.kernel.accessAllowed ? 'block' : 'none';\n",
              "\n",
              "        async function convertToInteractive(key) {\n",
              "          const element = document.querySelector('#df-a5084ac1-3c56-4ea4-9fa0-cfd60631e717');\n",
              "          const dataTable =\n",
              "            await google.colab.kernel.invokeFunction('convertToInteractive',\n",
              "                                                     [key], {});\n",
              "          if (!dataTable) return;\n",
              "\n",
              "          const docLinkHtml = 'Like what you see? Visit the ' +\n",
              "            '<a target=\"_blank\" href=https://colab.research.google.com/notebooks/data_table.ipynb>data table notebook</a>'\n",
              "            + ' to learn more about interactive tables.';\n",
              "          element.innerHTML = '';\n",
              "          dataTable['output_type'] = 'display_data';\n",
              "          await google.colab.output.renderOutput(dataTable, element);\n",
              "          const docLink = document.createElement('div');\n",
              "          docLink.innerHTML = docLinkHtml;\n",
              "          element.appendChild(docLink);\n",
              "        }\n",
              "      </script>\n",
              "    </div>\n",
              "  </div>\n",
              "  "
            ]
          },
          "metadata": {},
          "execution_count": 157
        }
      ]
    },
    {
      "cell_type": "markdown",
      "source": [
        "## Analisi esplorativa e pulizia dei dati\n"
      ],
      "metadata": {
        "id": "m7qsbQLJ4mGc"
      }
    },
    {
      "cell_type": "markdown",
      "source": [
        "Per ogni variabile numerica, visualizziamo alcune statistiche, come media, minimo, massimo, deviazione standard e percentili."
      ],
      "metadata": {
        "id": "CjDtFJ5a_gtT"
      }
    },
    {
      "cell_type": "code",
      "source": [
        "dataset.describe()"
      ],
      "metadata": {
        "colab": {
          "base_uri": "https://localhost:8080/",
          "height": 300
        },
        "id": "L3psyZhb4_5P",
        "outputId": "68fb1aeb-a184-437a-feb5-bf437970443b"
      },
      "execution_count": 158,
      "outputs": [
        {
          "output_type": "execute_result",
          "data": {
            "text/plain": [
              "               age  avg_glucose_level          bmi\n",
              "count  5110.000000        5110.000000  4909.000000\n",
              "mean     43.226614         106.147677    28.893237\n",
              "std      22.612647          45.283560     7.854067\n",
              "min       0.080000          55.120000    10.300000\n",
              "25%      25.000000          77.245000    23.500000\n",
              "50%      45.000000          91.885000    28.100000\n",
              "75%      61.000000         114.090000    33.100000\n",
              "max      82.000000         271.740000    97.600000"
            ],
            "text/html": [
              "\n",
              "  <div id=\"df-6faa4fa5-441e-41f4-b6d6-e7c595296fa0\">\n",
              "    <div class=\"colab-df-container\">\n",
              "      <div>\n",
              "<style scoped>\n",
              "    .dataframe tbody tr th:only-of-type {\n",
              "        vertical-align: middle;\n",
              "    }\n",
              "\n",
              "    .dataframe tbody tr th {\n",
              "        vertical-align: top;\n",
              "    }\n",
              "\n",
              "    .dataframe thead th {\n",
              "        text-align: right;\n",
              "    }\n",
              "</style>\n",
              "<table border=\"1\" class=\"dataframe\">\n",
              "  <thead>\n",
              "    <tr style=\"text-align: right;\">\n",
              "      <th></th>\n",
              "      <th>age</th>\n",
              "      <th>avg_glucose_level</th>\n",
              "      <th>bmi</th>\n",
              "    </tr>\n",
              "  </thead>\n",
              "  <tbody>\n",
              "    <tr>\n",
              "      <th>count</th>\n",
              "      <td>5110.000000</td>\n",
              "      <td>5110.000000</td>\n",
              "      <td>4909.000000</td>\n",
              "    </tr>\n",
              "    <tr>\n",
              "      <th>mean</th>\n",
              "      <td>43.226614</td>\n",
              "      <td>106.147677</td>\n",
              "      <td>28.893237</td>\n",
              "    </tr>\n",
              "    <tr>\n",
              "      <th>std</th>\n",
              "      <td>22.612647</td>\n",
              "      <td>45.283560</td>\n",
              "      <td>7.854067</td>\n",
              "    </tr>\n",
              "    <tr>\n",
              "      <th>min</th>\n",
              "      <td>0.080000</td>\n",
              "      <td>55.120000</td>\n",
              "      <td>10.300000</td>\n",
              "    </tr>\n",
              "    <tr>\n",
              "      <th>25%</th>\n",
              "      <td>25.000000</td>\n",
              "      <td>77.245000</td>\n",
              "      <td>23.500000</td>\n",
              "    </tr>\n",
              "    <tr>\n",
              "      <th>50%</th>\n",
              "      <td>45.000000</td>\n",
              "      <td>91.885000</td>\n",
              "      <td>28.100000</td>\n",
              "    </tr>\n",
              "    <tr>\n",
              "      <th>75%</th>\n",
              "      <td>61.000000</td>\n",
              "      <td>114.090000</td>\n",
              "      <td>33.100000</td>\n",
              "    </tr>\n",
              "    <tr>\n",
              "      <th>max</th>\n",
              "      <td>82.000000</td>\n",
              "      <td>271.740000</td>\n",
              "      <td>97.600000</td>\n",
              "    </tr>\n",
              "  </tbody>\n",
              "</table>\n",
              "</div>\n",
              "      <button class=\"colab-df-convert\" onclick=\"convertToInteractive('df-6faa4fa5-441e-41f4-b6d6-e7c595296fa0')\"\n",
              "              title=\"Convert this dataframe to an interactive table.\"\n",
              "              style=\"display:none;\">\n",
              "        \n",
              "  <svg xmlns=\"http://www.w3.org/2000/svg\" height=\"24px\"viewBox=\"0 0 24 24\"\n",
              "       width=\"24px\">\n",
              "    <path d=\"M0 0h24v24H0V0z\" fill=\"none\"/>\n",
              "    <path d=\"M18.56 5.44l.94 2.06.94-2.06 2.06-.94-2.06-.94-.94-2.06-.94 2.06-2.06.94zm-11 1L8.5 8.5l.94-2.06 2.06-.94-2.06-.94L8.5 2.5l-.94 2.06-2.06.94zm10 10l.94 2.06.94-2.06 2.06-.94-2.06-.94-.94-2.06-.94 2.06-2.06.94z\"/><path d=\"M17.41 7.96l-1.37-1.37c-.4-.4-.92-.59-1.43-.59-.52 0-1.04.2-1.43.59L10.3 9.45l-7.72 7.72c-.78.78-.78 2.05 0 2.83L4 21.41c.39.39.9.59 1.41.59.51 0 1.02-.2 1.41-.59l7.78-7.78 2.81-2.81c.8-.78.8-2.07 0-2.86zM5.41 20L4 18.59l7.72-7.72 1.47 1.35L5.41 20z\"/>\n",
              "  </svg>\n",
              "      </button>\n",
              "      \n",
              "  <style>\n",
              "    .colab-df-container {\n",
              "      display:flex;\n",
              "      flex-wrap:wrap;\n",
              "      gap: 12px;\n",
              "    }\n",
              "\n",
              "    .colab-df-convert {\n",
              "      background-color: #E8F0FE;\n",
              "      border: none;\n",
              "      border-radius: 50%;\n",
              "      cursor: pointer;\n",
              "      display: none;\n",
              "      fill: #1967D2;\n",
              "      height: 32px;\n",
              "      padding: 0 0 0 0;\n",
              "      width: 32px;\n",
              "    }\n",
              "\n",
              "    .colab-df-convert:hover {\n",
              "      background-color: #E2EBFA;\n",
              "      box-shadow: 0px 1px 2px rgba(60, 64, 67, 0.3), 0px 1px 3px 1px rgba(60, 64, 67, 0.15);\n",
              "      fill: #174EA6;\n",
              "    }\n",
              "\n",
              "    [theme=dark] .colab-df-convert {\n",
              "      background-color: #3B4455;\n",
              "      fill: #D2E3FC;\n",
              "    }\n",
              "\n",
              "    [theme=dark] .colab-df-convert:hover {\n",
              "      background-color: #434B5C;\n",
              "      box-shadow: 0px 1px 3px 1px rgba(0, 0, 0, 0.15);\n",
              "      filter: drop-shadow(0px 1px 2px rgba(0, 0, 0, 0.3));\n",
              "      fill: #FFFFFF;\n",
              "    }\n",
              "  </style>\n",
              "\n",
              "      <script>\n",
              "        const buttonEl =\n",
              "          document.querySelector('#df-6faa4fa5-441e-41f4-b6d6-e7c595296fa0 button.colab-df-convert');\n",
              "        buttonEl.style.display =\n",
              "          google.colab.kernel.accessAllowed ? 'block' : 'none';\n",
              "\n",
              "        async function convertToInteractive(key) {\n",
              "          const element = document.querySelector('#df-6faa4fa5-441e-41f4-b6d6-e7c595296fa0');\n",
              "          const dataTable =\n",
              "            await google.colab.kernel.invokeFunction('convertToInteractive',\n",
              "                                                     [key], {});\n",
              "          if (!dataTable) return;\n",
              "\n",
              "          const docLinkHtml = 'Like what you see? Visit the ' +\n",
              "            '<a target=\"_blank\" href=https://colab.research.google.com/notebooks/data_table.ipynb>data table notebook</a>'\n",
              "            + ' to learn more about interactive tables.';\n",
              "          element.innerHTML = '';\n",
              "          dataTable['output_type'] = 'display_data';\n",
              "          await google.colab.output.renderOutput(dataTable, element);\n",
              "          const docLink = document.createElement('div');\n",
              "          docLink.innerHTML = docLinkHtml;\n",
              "          element.appendChild(docLink);\n",
              "        }\n",
              "      </script>\n",
              "    </div>\n",
              "  </div>\n",
              "  "
            ]
          },
          "metadata": {},
          "execution_count": 158
        }
      ]
    },
    {
      "cell_type": "markdown",
      "source": [
        "Controlliamo se e quanto le due classi sono sbilanciate."
      ],
      "metadata": {
        "id": "gWnkI8qlCBrO"
      }
    },
    {
      "cell_type": "code",
      "source": [
        "dataset['stroke'].value_counts()"
      ],
      "metadata": {
        "colab": {
          "base_uri": "https://localhost:8080/"
        },
        "id": "OFtbFdHTf-2P",
        "outputId": "364aaf81-5f9c-4b68-f6b6-8f027672a195"
      },
      "execution_count": 159,
      "outputs": [
        {
          "output_type": "execute_result",
          "data": {
            "text/plain": [
              "0    4861\n",
              "1     249\n",
              "Name: stroke, dtype: int64"
            ]
          },
          "metadata": {},
          "execution_count": 159
        }
      ]
    },
    {
      "cell_type": "code",
      "source": [
        "plt.pie(\n",
        "    dataset['stroke'].value_counts(),\n",
        "    labels=['normal', 'stroke'],\n",
        "    colors=sns.color_palette('pastel'),\n",
        "    autopct='%.0f%%'\n",
        ");"
      ],
      "metadata": {
        "colab": {
          "base_uri": "https://localhost:8080/",
          "height": 406
        },
        "id": "NPyIQyFMnmEg",
        "outputId": "44873afe-bbde-48a4-d3fe-5c57137b2080"
      },
      "execution_count": 160,
      "outputs": [
        {
          "output_type": "display_data",
          "data": {
            "text/plain": [
              "<Figure size 640x480 with 1 Axes>"
            ],
            "image/png": "[encoded data removed]"
          },
          "metadata": {}
        }
      ]
    },
    {
      "cell_type": "markdown",
      "source": [
        "Come potevamo aspettarci, le classi sono fortemente sbilanciate. Nella sezione successiva utilizzeremo delle tecniche apposite per affrontare questo problema."
      ],
      "metadata": {
        "id": "2PCqHA5oGKfV"
      }
    },
    {
      "cell_type": "markdown",
      "source": [
        "Verifichiamo ora la presenza di valori nulli all’interno del dataset."
      ],
      "metadata": {
        "id": "L-UTvM7q6kIe"
      }
    },
    {
      "cell_type": "code",
      "source": [
        "dataset.isna().sum()"
      ],
      "metadata": {
        "colab": {
          "base_uri": "https://localhost:8080/"
        },
        "id": "ckrhV8EU5BVc",
        "outputId": "f60721ab-2e95-4364-eb62-1e197471c7e3"
      },
      "execution_count": 161,
      "outputs": [
        {
          "output_type": "execute_result",
          "data": {
            "text/plain": [
              "gender                 0\n",
              "age                    0\n",
              "hypertension           0\n",
              "heart_disease          0\n",
              "ever_married           0\n",
              "work_type              0\n",
              "Residence_type         0\n",
              "avg_glucose_level      0\n",
              "bmi                  201\n",
              "smoking_status         0\n",
              "stroke                 0\n",
              "dtype: int64"
            ]
          },
          "metadata": {},
          "execution_count": 161
        }
      ]
    },
    {
      "cell_type": "markdown",
      "source": [
        "Notiamo che sono presenti 201 istanze in cui la feature `bmi` è NaN."
      ],
      "metadata": {
        "id": "JAE5pOsD8rh5"
      }
    },
    {
      "cell_type": "code",
      "source": [
        "dataset[dataset['bmi'].isna()]['stroke'].value_counts()"
      ],
      "metadata": {
        "colab": {
          "base_uri": "https://localhost:8080/"
        },
        "id": "b6MYJfuTtSO_",
        "outputId": "8d78a337-d518-4a3d-9d85-23a593b20078"
      },
      "execution_count": 162,
      "outputs": [
        {
          "output_type": "execute_result",
          "data": {
            "text/plain": [
              "0    161\n",
              "1     40\n",
              "Name: stroke, dtype: int64"
            ]
          },
          "metadata": {},
          "execution_count": 162
        }
      ]
    },
    {
      "cell_type": "markdown",
      "source": [
        "Tra queste 201 istanze, 161 sono pazienti che non sono stati colpiti da ictus, mentre le restanti 40 invece lo sono. Per non sbilanciare ulteriormente le classi, invece di eliminare le 201 istanze, riempiamo i valore nulli con la media della colonna `bmi`."
      ],
      "metadata": {
        "id": "vEuWW6N5tyrt"
      }
    },
    {
      "cell_type": "code",
      "source": [
        "dataset.fillna(dataset['bmi'].mean(), inplace=True)\n",
        "dataset.isna().sum()"
      ],
      "metadata": {
        "colab": {
          "base_uri": "https://localhost:8080/"
        },
        "id": "dsrteow9rj8M",
        "outputId": "52a13757-0fcf-4950-a260-bb1111c65cf8"
      },
      "execution_count": 163,
      "outputs": [
        {
          "output_type": "execute_result",
          "data": {
            "text/plain": [
              "gender               0\n",
              "age                  0\n",
              "hypertension         0\n",
              "heart_disease        0\n",
              "ever_married         0\n",
              "work_type            0\n",
              "Residence_type       0\n",
              "avg_glucose_level    0\n",
              "bmi                  0\n",
              "smoking_status       0\n",
              "stroke               0\n",
              "dtype: int64"
            ]
          },
          "metadata": {},
          "execution_count": 163
        }
      ]
    },
    {
      "cell_type": "markdown",
      "source": [
        "Andiamo a visualizzare la distribuzione delle variabili continue del dataset, distinguendo le due categorie di pazienti."
      ],
      "metadata": {
        "id": "C3LU6KNYRygW"
      }
    },
    {
      "cell_type": "code",
      "source": [
        "numeric_features = [\n",
        "    'age',\n",
        "    'avg_glucose_level',\n",
        "    'bmi',\n",
        "]"
      ],
      "metadata": {
        "id": "Jh0s9gL85IlH"
      },
      "execution_count": 164,
      "outputs": []
    },
    {
      "cell_type": "code",
      "source": [
        "titles = [\n",
        "    'Età',\n",
        "    'Livello medio di glucosio nel sangue',\n",
        "    'Body Mass Index',\n",
        "]\n",
        "\n",
        "xlabels = [\n",
        "    'anni',\n",
        "    'mg/dL',\n",
        "    'kg/m^2',\n",
        "]\n",
        "\n",
        "plt.figure(figsize=(20, 12))\n",
        "\n",
        "for i, feature in enumerate(numeric_features, start=1):\n",
        "  plt.subplot(2, 3, i)\n",
        "  plt.title(titles[i-1])\n",
        "  sns.histplot(\n",
        "    x=feature,\n",
        "    hue='stroke',\n",
        "    data=dataset,\n",
        "    bins=20,\n",
        "    element='step'\n",
        "  )\n",
        "  plt.grid()\n",
        "  plt.ylabel('count')\n",
        "  plt.xlabel(xlabels[i-1])\n",
        "\n",
        "plt.show()"
      ],
      "metadata": {
        "colab": {
          "base_uri": "https://localhost:8080/",
          "height": 481
        },
        "id": "Cjh-4NgJSGd0",
        "outputId": "89dfbc78-3a3d-4cd3-afef-7b2eac51b44c"
      },
      "execution_count": 165,
      "outputs": [
        {
          "output_type": "display_data",
          "data": {
            "text/plain": [
              "<Figure size 2000x1200 with 3 Axes>"
            ],
            "image/png": "[encoded data removed]"
          },
          "metadata": {}
        }
      ]
    },
    {
      "cell_type": "markdown",
      "source": [
        "In generale, i pazienti che sono stati colpiti da ictus hanno un’età compresa tra i 40 e gli 80 anni, con la maggioranza dei pazienti colpiti intorno agli 80 anni.\n",
        "\n",
        "Il livello di glucosio medio nel sangue si concentra per la maggior parte tra i 60 e i 120 $\\frac{mg}{dL}$. Ma ci sono anche pazienti con un alto valore di glucosio, molti di questi colpiti da ictus.\n",
        "\n",
        "La maggiornaza dei pazienti ha un indice di massa corporea tra i 20 e i 40 $\\frac{kg}{m^2}$."
      ],
      "metadata": {
        "id": "N8lCuDDgWDrp"
      }
    },
    {
      "cell_type": "code",
      "source": [
        "plt.figure(figsize=(20, 12))\n",
        "\n",
        "for i, feature in enumerate(numeric_features, start=1):\n",
        "  plt.subplot(2, 3, i)\n",
        "  sns.boxplot(\n",
        "    data=dataset,\n",
        "    x=feature,\n",
        "    y='stroke',\n",
        "    hue='stroke',\n",
        "    palette='pastel',\n",
        "  )\n",
        "  plt.title(titles[i-1])\n",
        "  plt.xlabel(xlabels[i-1])\n",
        "  plt.ylabel('Ictus')\n",
        "  plt.grid(axis='x')\n",
        "\n",
        "plt.show()"
      ],
      "metadata": {
        "colab": {
          "base_uri": "https://localhost:8080/",
          "height": 486
        },
        "id": "Y_B1uGAA_WCO",
        "outputId": "9ac1707f-4e28-4534-a313-d43d6fddb534"
      },
      "execution_count": 166,
      "outputs": [
        {
          "output_type": "display_data",
          "data": {
            "text/plain": [
              "<Figure size 2000x1200 with 3 Axes>"
            ],
            "image/png": "[encoded data removed]"
          },
          "metadata": {}
        }
      ]
    },
    {
      "cell_type": "markdown",
      "source": [
        "Notiamo che per le colonne `avg_glucose_level` e `bmi` sono presenti molti outliers.\n",
        "\n",
        "Per quanto concerne l’indice glicemico, ipotizzando che le istanze con valore nell’intervallo 200-250 $\\frac{mg}{dL}$ sono pazienti diabetici, decidiamo di mantenere le istanze. Per gli altri valori, cioè quelli intorno a 150 $\\frac{mg}{dL}$, si ipotizza che siano relativi a misurazioni effettuate vicino ai pasti, più in generale a momenti in cui il paziente ha assunto una certa quantità di glucosio.\n",
        "\n",
        "Per quanto riguarda l’indice di massa corporea, notiamo che sono presenti valori decisamente alti e altamente improbabili, in particolare quelli superiori ad 80. Decidiamo perciò di rimuovere tali istanze."
      ],
      "metadata": {
        "id": "NP8wzEVQV0Co"
      }
    },
    {
      "cell_type": "code",
      "source": [
        "dataset.drop(dataset[dataset['bmi'] >= 60].index, inplace=True)\n",
        "dataset['bmi'].describe()"
      ],
      "metadata": {
        "colab": {
          "base_uri": "https://localhost:8080/"
        },
        "id": "hWzDRbzHRgMh",
        "outputId": "227baf5d-92e6-443f-85bc-1507826eb020"
      },
      "execution_count": 167,
      "outputs": [
        {
          "output_type": "execute_result",
          "data": {
            "text/plain": [
              "count    5097.000000\n",
              "mean       28.789649\n",
              "std         7.404873\n",
              "min        10.300000\n",
              "25%        23.800000\n",
              "50%        28.400000\n",
              "75%        32.800000\n",
              "max        59.700000\n",
              "Name: bmi, dtype: float64"
            ]
          },
          "metadata": {},
          "execution_count": 167
        }
      ]
    },
    {
      "cell_type": "code",
      "source": [
        "sns.boxplot(\n",
        "  data=dataset,\n",
        "  x='bmi',\n",
        "  y='stroke',\n",
        "  hue='stroke',\n",
        "  palette='pastel',\n",
        ")\n",
        "plt.title('Body Mass Index')\n",
        "plt.xlabel('kg/m^2')\n",
        "plt.ylabel('Ictus')\n",
        "plt.grid(axis='x')"
      ],
      "metadata": {
        "colab": {
          "base_uri": "https://localhost:8080/",
          "height": 472
        },
        "id": "v842FtLKUdyF",
        "outputId": "0ce107d2-58cf-4531-8628-e85960248e87"
      },
      "execution_count": 168,
      "outputs": [
        {
          "output_type": "display_data",
          "data": {
            "text/plain": [
              "<Figure size 640x480 with 1 Axes>"
            ],
            "image/png": "[encoded data removed]"
          },
          "metadata": {}
        }
      ]
    },
    {
      "cell_type": "code",
      "source": [
        "categorical_features = [\n",
        "    'gender',\n",
        "    'hypertension',\n",
        "    'heart_disease',\n",
        "    'ever_married',\n",
        "    'work_type',\n",
        "    'Residence_type',\n",
        "    'smoking_status',\n",
        "]"
      ],
      "metadata": {
        "id": "XUM04WiJ8cYX"
      },
      "execution_count": 169,
      "outputs": []
    },
    {
      "cell_type": "code",
      "source": [
        "titles = [\n",
        "    'Sesso',\n",
        "    'Ipertensione',\n",
        "    'Malattie cardiache',\n",
        "    'Sposato almeno una volta',\n",
        "    'Tipologia di occupazione',\n",
        "    'Tipo di residenza',\n",
        "    'Stato fumatore',\n",
        "  ]\n",
        "\n",
        "plt.figure(figsize=(20, 20))\n",
        "\n",
        "for i, feature in enumerate(categorical_features, start=1):\n",
        "  plt.subplot(3, 3, i)\n",
        "  sns.countplot(\n",
        "    data=dataset,\n",
        "    x=feature,\n",
        "    hue='stroke',\n",
        "    palette='pastel',\n",
        "  )\n",
        "  plt.title(titles[i-1])\n",
        "  plt.grid(axis='y')\n",
        "\n",
        "plt.show()"
      ],
      "metadata": {
        "colab": {
          "base_uri": "https://localhost:8080/",
          "height": 1000
        },
        "id": "cUdKYAt8oEHE",
        "outputId": "7abf2bf0-16a0-49ca-d93f-39b96642ccd3"
      },
      "execution_count": 170,
      "outputs": [
        {
          "output_type": "display_data",
          "data": {
            "text/plain": [
              "<Figure size 2000x2000 with 7 Axes>"
            ],
            "image/png": "[encoded data removed]"
          },
          "metadata": {}
        }
      ]
    },
    {
      "cell_type": "markdown",
      "source": [
        "Dal primo grafico notiamo che le donne sono leggermente meno soggette a ictus rispetto agli uomini. Pochissimi pazienti soffrono di ipertensione e di malattie cardiache. Circa due terzi dei pazienti presenti nel dataset si sono sposati almeno una volta. Quasi tutti i pazienti hanno un lavoro e sono tutti pressoché equamente distribuiti per quanto riguarda la loro residenza (urbana o rurale). Infine, è presente un elevato numero di pazienti di cui non si sa lo stato fumatore, ma ce ne sono tanti che non hanno mai fumato."
      ],
      "metadata": {
        "id": "eks3InZw1pTi"
      }
    },
    {
      "cell_type": "code",
      "source": [
        "correlation_matrix = dataset.corr(method='pearson', numeric_only=True)\n",
        "plt.figure(figsize=(5,4))\n",
        "sns.heatmap(correlation_matrix, cmap=\"coolwarm\", annot=True)"
      ],
      "metadata": {
        "colab": {
          "base_uri": "https://localhost:8080/",
          "height": 391
        },
        "id": "0W_b0ttIYQfI",
        "outputId": "c5a2156f-03d7-47a8-e59e-100b5cb97a1c"
      },
      "execution_count": 171,
      "outputs": [
        {
          "output_type": "execute_result",
          "data": {
            "text/plain": [
              "<Axes: >"
            ]
          },
          "metadata": {},
          "execution_count": 171
        },
        {
          "output_type": "display_data",
          "data": {
            "text/plain": [
              "<Figure size 500x400 with 2 Axes>"
            ],
            "image/png": "[encoded data removed]"
          },
          "metadata": {}
        }
      ]
    },
    {
      "cell_type": "markdown",
      "source": [
        "Dalla matrice di correlazione si osserva che la correlazione di Pearson tra le variabili numeriche è molto bassa. Possiamo dunque mantenere tutte queste variabili quando andremo ad addestrare il modello."
      ],
      "metadata": {
        "id": "c24Zp5L6flqf"
      }
    },
    {
      "cell_type": "markdown",
      "source": [
        "## Preparazione dei dati"
      ],
      "metadata": {
        "id": "gawmliiinYoG"
      }
    },
    {
      "cell_type": "markdown",
      "source": [
        "Isoliamo la variabile da predire dalle feature utilizzate per l’addestramento."
      ],
      "metadata": {
        "id": "OWc70hFR5P9z"
      }
    },
    {
      "cell_type": "code",
      "source": [
        "X = dataset.drop(columns=['stroke'])\n",
        "X.head()"
      ],
      "metadata": {
        "colab": {
          "base_uri": "https://localhost:8080/",
          "height": 238
        },
        "id": "_3f1BkFX5fgl",
        "outputId": "35ef43eb-2dac-410e-ae7b-00a00ac4780e"
      },
      "execution_count": 172,
      "outputs": [
        {
          "output_type": "execute_result",
          "data": {
            "text/plain": [
              "       gender   age hypertension heart_disease ever_married      work_type  \\\n",
              "id                                                                           \n",
              "9046     Male  67.0            0             1          Yes        Private   \n",
              "51676  Female  61.0            0             0          Yes  Self-employed   \n",
              "31112    Male  80.0            0             1          Yes        Private   \n",
              "60182  Female  49.0            0             0          Yes        Private   \n",
              "1665   Female  79.0            1             0          Yes  Self-employed   \n",
              "\n",
              "      Residence_type  avg_glucose_level        bmi   smoking_status  \n",
              "id                                                                   \n",
              "9046           Urban             228.69  36.600000  formerly smoked  \n",
              "51676          Rural             202.21  28.893237     never smoked  \n",
              "31112          Rural             105.92  32.500000     never smoked  \n",
              "60182          Urban             171.23  34.400000           smokes  \n",
              "1665           Rural             174.12  24.000000     never smoked  "
            ],
            "text/html": [
              "\n",
              "  <div id=\"df-95d135f5-52ee-4772-a56a-9a7b4e5edc35\">\n",
              "    <div class=\"colab-df-container\">\n",
              "      <div>\n",
              "<style scoped>\n",
              "    .dataframe tbody tr th:only-of-type {\n",
              "        vertical-align: middle;\n",
              "    }\n",
              "\n",
              "    .dataframe tbody tr th {\n",
              "        vertical-align: top;\n",
              "    }\n",
              "\n",
              "    .dataframe thead th {\n",
              "        text-align: right;\n",
              "    }\n",
              "</style>\n",
              "<table border=\"1\" class=\"dataframe\">\n",
              "  <thead>\n",
              "    <tr style=\"text-align: right;\">\n",
              "      <th></th>\n",
              "      <th>gender</th>\n",
              "      <th>age</th>\n",
              "      <th>hypertension</th>\n",
              "      <th>heart_disease</th>\n",
              "      <th>ever_married</th>\n",
              "      <th>work_type</th>\n",
              "      <th>Residence_type</th>\n",
              "      <th>avg_glucose_level</th>\n",
              "      <th>bmi</th>\n",
              "      <th>smoking_status</th>\n",
              "    </tr>\n",
              "    <tr>\n",
              "      <th>id</th>\n",
              "      <th></th>\n",
              "      <th></th>\n",
              "      <th></th>\n",
              "      <th></th>\n",
              "      <th></th>\n",
              "      <th></th>\n",
              "      <th></th>\n",
              "      <th></th>\n",
              "      <th></th>\n",
              "      <th></th>\n",
              "    </tr>\n",
              "  </thead>\n",
              "  <tbody>\n",
              "    <tr>\n",
              "      <th>9046</th>\n",
              "      <td>Male</td>\n",
              "      <td>67.0</td>\n",
              "      <td>0</td>\n",
              "      <td>1</td>\n",
              "      <td>Yes</td>\n",
              "      <td>Private</td>\n",
              "      <td>Urban</td>\n",
              "      <td>228.69</td>\n",
              "      <td>36.600000</td>\n",
              "      <td>formerly smoked</td>\n",
              "    </tr>\n",
              "    <tr>\n",
              "      <th>51676</th>\n",
              "      <td>Female</td>\n",
              "      <td>61.0</td>\n",
              "      <td>0</td>\n",
              "      <td>0</td>\n",
              "      <td>Yes</td>\n",
              "      <td>Self-employed</td>\n",
              "      <td>Rural</td>\n",
              "      <td>202.21</td>\n",
              "      <td>28.893237</td>\n",
              "      <td>never smoked</td>\n",
              "    </tr>\n",
              "    <tr>\n",
              "      <th>31112</th>\n",
              "      <td>Male</td>\n",
              "      <td>80.0</td>\n",
              "      <td>0</td>\n",
              "      <td>1</td>\n",
              "      <td>Yes</td>\n",
              "      <td>Private</td>\n",
              "      <td>Rural</td>\n",
              "      <td>105.92</td>\n",
              "      <td>32.500000</td>\n",
              "      <td>never smoked</td>\n",
              "    </tr>\n",
              "    <tr>\n",
              "      <th>60182</th>\n",
              "      <td>Female</td>\n",
              "      <td>49.0</td>\n",
              "      <td>0</td>\n",
              "      <td>0</td>\n",
              "      <td>Yes</td>\n",
              "      <td>Private</td>\n",
              "      <td>Urban</td>\n",
              "      <td>171.23</td>\n",
              "      <td>34.400000</td>\n",
              "      <td>smokes</td>\n",
              "    </tr>\n",
              "    <tr>\n",
              "      <th>1665</th>\n",
              "      <td>Female</td>\n",
              "      <td>79.0</td>\n",
              "      <td>1</td>\n",
              "      <td>0</td>\n",
              "      <td>Yes</td>\n",
              "      <td>Self-employed</td>\n",
              "      <td>Rural</td>\n",
              "      <td>174.12</td>\n",
              "      <td>24.000000</td>\n",
              "      <td>never smoked</td>\n",
              "    </tr>\n",
              "  </tbody>\n",
              "</table>\n",
              "</div>\n",
              "      <button class=\"colab-df-convert\" onclick=\"convertToInteractive('df-95d135f5-52ee-4772-a56a-9a7b4e5edc35')\"\n",
              "              title=\"Convert this dataframe to an interactive table.\"\n",
              "              style=\"display:none;\">\n",
              "        \n",
              "  <svg xmlns=\"http://www.w3.org/2000/svg\" height=\"24px\"viewBox=\"0 0 24 24\"\n",
              "       width=\"24px\">\n",
              "    <path d=\"M0 0h24v24H0V0z\" fill=\"none\"/>\n",
              "    <path d=\"M18.56 5.44l.94 2.06.94-2.06 2.06-.94-2.06-.94-.94-2.06-.94 2.06-2.06.94zm-11 1L8.5 8.5l.94-2.06 2.06-.94-2.06-.94L8.5 2.5l-.94 2.06-2.06.94zm10 10l.94 2.06.94-2.06 2.06-.94-2.06-.94-.94-2.06-.94 2.06-2.06.94z\"/><path d=\"M17.41 7.96l-1.37-1.37c-.4-.4-.92-.59-1.43-.59-.52 0-1.04.2-1.43.59L10.3 9.45l-7.72 7.72c-.78.78-.78 2.05 0 2.83L4 21.41c.39.39.9.59 1.41.59.51 0 1.02-.2 1.41-.59l7.78-7.78 2.81-2.81c.8-.78.8-2.07 0-2.86zM5.41 20L4 18.59l7.72-7.72 1.47 1.35L5.41 20z\"/>\n",
              "  </svg>\n",
              "      </button>\n",
              "      \n",
              "  <style>\n",
              "    .colab-df-container {\n",
              "      display:flex;\n",
              "      flex-wrap:wrap;\n",
              "      gap: 12px;\n",
              "    }\n",
              "\n",
              "    .colab-df-convert {\n",
              "      background-color: #E8F0FE;\n",
              "      border: none;\n",
              "      border-radius: 50%;\n",
              "      cursor: pointer;\n",
              "      display: none;\n",
              "      fill: #1967D2;\n",
              "      height: 32px;\n",
              "      padding: 0 0 0 0;\n",
              "      width: 32px;\n",
              "    }\n",
              "\n",
              "    .colab-df-convert:hover {\n",
              "      background-color: #E2EBFA;\n",
              "      box-shadow: 0px 1px 2px rgba(60, 64, 67, 0.3), 0px 1px 3px 1px rgba(60, 64, 67, 0.15);\n",
              "      fill: #174EA6;\n",
              "    }\n",
              "\n",
              "    [theme=dark] .colab-df-convert {\n",
              "      background-color: #3B4455;\n",
              "      fill: #D2E3FC;\n",
              "    }\n",
              "\n",
              "    [theme=dark] .colab-df-convert:hover {\n",
              "      background-color: #434B5C;\n",
              "      box-shadow: 0px 1px 3px 1px rgba(0, 0, 0, 0.15);\n",
              "      filter: drop-shadow(0px 1px 2px rgba(0, 0, 0, 0.3));\n",
              "      fill: #FFFFFF;\n",
              "    }\n",
              "  </style>\n",
              "\n",
              "      <script>\n",
              "        const buttonEl =\n",
              "          document.querySelector('#df-95d135f5-52ee-4772-a56a-9a7b4e5edc35 button.colab-df-convert');\n",
              "        buttonEl.style.display =\n",
              "          google.colab.kernel.accessAllowed ? 'block' : 'none';\n",
              "\n",
              "        async function convertToInteractive(key) {\n",
              "          const element = document.querySelector('#df-95d135f5-52ee-4772-a56a-9a7b4e5edc35');\n",
              "          const dataTable =\n",
              "            await google.colab.kernel.invokeFunction('convertToInteractive',\n",
              "                                                     [key], {});\n",
              "          if (!dataTable) return;\n",
              "\n",
              "          const docLinkHtml = 'Like what you see? Visit the ' +\n",
              "            '<a target=\"_blank\" href=https://colab.research.google.com/notebooks/data_table.ipynb>data table notebook</a>'\n",
              "            + ' to learn more about interactive tables.';\n",
              "          element.innerHTML = '';\n",
              "          dataTable['output_type'] = 'display_data';\n",
              "          await google.colab.output.renderOutput(dataTable, element);\n",
              "          const docLink = document.createElement('div');\n",
              "          docLink.innerHTML = docLinkHtml;\n",
              "          element.appendChild(docLink);\n",
              "        }\n",
              "      </script>\n",
              "    </div>\n",
              "  </div>\n",
              "  "
            ]
          },
          "metadata": {},
          "execution_count": 172
        }
      ]
    },
    {
      "cell_type": "code",
      "source": [
        "y = dataset['stroke'].astype(int)\n",
        "y.head()"
      ],
      "metadata": {
        "colab": {
          "base_uri": "https://localhost:8080/"
        },
        "id": "2kWRbe3_5mTZ",
        "outputId": "7d9dc8ee-43ca-48cc-a6eb-cbae9987a520"
      },
      "execution_count": 173,
      "outputs": [
        {
          "output_type": "execute_result",
          "data": {
            "text/plain": [
              "id\n",
              "9046     1\n",
              "51676    1\n",
              "31112    1\n",
              "60182    1\n",
              "1665     1\n",
              "Name: stroke, dtype: int64"
            ]
          },
          "metadata": {},
          "execution_count": 173
        }
      ]
    },
    {
      "cell_type": "markdown",
      "source": [
        "A questo punto, andiamo a suddividere il dataset in *training set* e *test set* utilizzando la funzione `train_test_split` di scikit-learn. Inoltre, specifichiamo come parametro nella funzione `stratify=y`, in modo tale da distribuire le istanze della variabile da predire nel training e nel test set."
      ],
      "metadata": {
        "id": "DqbxLSND6TFG"
      }
    },
    {
      "cell_type": "code",
      "source": [
        "from sklearn.model_selection import train_test_split\n",
        "\n",
        "X_train, X_test, y_train, y_test = \\\n",
        "  train_test_split(X, y, test_size=1/3, stratify=y, random_state=42)"
      ],
      "metadata": {
        "id": "sL2ssQfN6BKW"
      },
      "execution_count": 174,
      "outputs": []
    },
    {
      "cell_type": "markdown",
      "source": [
        "Nella sezione precedente, abbiamo visto che le classi sono molto sbilanciate. Effettuiamo, dunque, un *oversampling* della classe meno rappresentata, i.e. `stroke=1`, tramite la tecnica SMOTE. In particolare, siccome il dataset contiene sia variabili numeriche e categoriche, utilizziamo una sua variante chiamata SMOTE-NC."
      ],
      "metadata": {
        "id": "c0yA5Jbv79gH"
      }
    },
    {
      "cell_type": "code",
      "source": [
        "from imblearn.over_sampling import SMOTENC\n",
        "\n",
        "smote_nc = \\\n",
        "  SMOTENC(categorical_features=[X_train.dtypes == 'category'], random_state=42)\n",
        "X_train_resample, y_train_resample = smote_nc.fit_resample(X_train, y_train)"
      ],
      "metadata": {
        "id": "SqPmNxww8-H0"
      },
      "execution_count": 175,
      "outputs": []
    },
    {
      "cell_type": "code",
      "source": [
        "y_train_resample.describe()"
      ],
      "metadata": {
        "colab": {
          "base_uri": "https://localhost:8080/"
        },
        "id": "OV_1TIJiKDws",
        "outputId": "1fd749df-a5e2-43b1-f633-18507b0edac4"
      },
      "execution_count": 176,
      "outputs": [
        {
          "output_type": "execute_result",
          "data": {
            "text/plain": [
              "count    6464.000000\n",
              "mean        0.500000\n",
              "std         0.500039\n",
              "min         0.000000\n",
              "25%         0.000000\n",
              "50%         0.500000\n",
              "75%         1.000000\n",
              "max         1.000000\n",
              "Name: stroke, dtype: float64"
            ]
          },
          "metadata": {},
          "execution_count": 176
        }
      ]
    },
    {
      "cell_type": "markdown",
      "source": [
        "Notiamo che ora le classi sono perfettamente bilanciate."
      ],
      "metadata": {
        "id": "PkDPMjayKZ7w"
      }
    },
    {
      "cell_type": "markdown",
      "source": [
        "## Modelli predittivi"
      ],
      "metadata": {
        "id": "zs-yuey_rbWT"
      }
    },
    {
      "cell_type": "markdown",
      "source": [
        "Definiamo qualche funzione che ci tornerà utile per la valutazione dei modelli.\n",
        "\n",
        "Iniziamo col definire una funzione che calcoli l’intervallo di confidenza, utile per confrontare i modelli analizzati."
      ],
      "metadata": {
        "id": "Vp2-E9bmrxz_"
      }
    },
    {
      "cell_type": "code",
      "source": [
        "from statsmodels.stats.proportion import proportion_confint\n",
        "\n",
        "def confidence_interval(instance, acc, confidence):\n",
        "    return proportion_confint(instance * acc, instance, 1-confidence/100, method='wilson')"
      ],
      "metadata": {
        "id": "R6X3TkOgsCRQ"
      },
      "execution_count": 177,
      "outputs": []
    },
    {
      "cell_type": "markdown",
      "source": [
        "Definiamo una funzione per stampare in formato tabellare la matrice di confusione."
      ],
      "metadata": {
        "id": "0jTuvvZTxtzH"
      }
    },
    {
      "cell_type": "code",
      "source": [
        "from sklearn.metrics import confusion_matrix\n",
        "\n",
        "labels = { 0: 'No Stroke', 1: 'Stroke' }\n",
        "\n",
        "def print_confusion_matrix(model, y_test, y_pred, normalize=None):\n",
        "  cm = pd.DataFrame(\n",
        "      confusion_matrix(y_test, y_pred, normalize=normalize),\n",
        "      index=model.classes_,\n",
        "      columns=model.classes_,\n",
        "  )\n",
        "  cm.index = [labels[i] for i in cm.index]\n",
        "  cm.columns = [labels[i] for i in cm.columns]\n",
        "  return cm"
      ],
      "metadata": {
        "id": "E-f2O0YusILS"
      },
      "execution_count": 178,
      "outputs": []
    },
    {
      "cell_type": "code",
      "source": [
        "numeric_features = [\n",
        "    'age',\n",
        "    'avg_glucose_level',\n",
        "    'bmi',\n",
        "]\n",
        "\n",
        "binary_features = [\n",
        "    'hypertension',\n",
        "    'heart_disease',\n",
        "]\n",
        "\n",
        "categorical_features = [\n",
        "    'gender',\n",
        "    'ever_married',\n",
        "    'work_type',\n",
        "    'Residence_type',\n",
        "    'smoking_status',\n",
        "]"
      ],
      "metadata": {
        "id": "csEQE0v42_kx"
      },
      "execution_count": 179,
      "outputs": []
    },
    {
      "cell_type": "markdown",
      "source": [
        "### Perceptron"
      ],
      "metadata": {
        "id": "mxa_iT4404zb"
      }
    },
    {
      "cell_type": "code",
      "source": [
        "from sklearn.linear_model import Perceptron\n",
        "from sklearn.compose import ColumnTransformer\n",
        "from sklearn.preprocessing import StandardScaler\n",
        "from sklearn.preprocessing import OneHotEncoder\n",
        "from sklearn.pipeline import Pipeline\n",
        "from sklearn.metrics import classification_report\n",
        "\n",
        "perceptron = Pipeline([\n",
        "    ('preproc', ColumnTransformer([\n",
        "        ('numeric', StandardScaler(), numeric_features),\n",
        "        ('binary', 'passthrough', binary_features),\n",
        "        ('categorical', OneHotEncoder(), categorical_features),\n",
        "      ], remainder='passthrough')\n",
        "    ),\n",
        "    ('perceptron', Perceptron(random_state=42))\n",
        "])\n",
        "\n",
        "perceptron.fit(X_train_resample, y_train_resample)\n",
        "\n",
        "print('Accuracy on training set {:.2f}%'.format(perceptron.score(X_train_resample, y_train_resample)*100))\n",
        "print('Accuracy on test set {:.2f}%'.format(perceptron.score(X_test, y_test)*100))"
      ],
      "metadata": {
        "colab": {
          "base_uri": "https://localhost:8080/"
        },
        "id": "oYMoLlz708VN",
        "outputId": "6a245cb7-d297-4862-ceae-c02b28c99712"
      },
      "execution_count": 187,
      "outputs": [
        {
          "output_type": "stream",
          "name": "stdout",
          "text": [
            "Accuracy on training set 75.51%\n",
            "Accuracy on test set 75.93%\n"
          ]
        }
      ]
    },
    {
      "cell_type": "code",
      "source": [
        "from sklearn.metrics import classification_report\n",
        "\n",
        "y_pred = perceptron.predict(X_test)\n",
        "print_confusion_matrix(perceptron, y_test, y_pred)"
      ],
      "metadata": {
        "colab": {
          "base_uri": "https://localhost:8080/",
          "height": 112
        },
        "id": "66LX09Gm50gA",
        "outputId": "206b1bf8-e8c9-4fcc-ecaf-c9c3c9f04290"
      },
      "execution_count": 188,
      "outputs": [
        {
          "output_type": "execute_result",
          "data": {
            "text/plain": [
              "           No Stroke  Stroke\n",
              "No Stroke       1242     374\n",
              "Stroke            35      48"
            ],
            "text/html": [
              "\n",
              "  <div id=\"df-5340792c-ee4b-4a44-92e2-b8b231c78bf5\">\n",
              "    <div class=\"colab-df-container\">\n",
              "      <div>\n",
              "<style scoped>\n",
              "    .dataframe tbody tr th:only-of-type {\n",
              "        vertical-align: middle;\n",
              "    }\n",
              "\n",
              "    .dataframe tbody tr th {\n",
              "        vertical-align: top;\n",
              "    }\n",
              "\n",
              "    .dataframe thead th {\n",
              "        text-align: right;\n",
              "    }\n",
              "</style>\n",
              "<table border=\"1\" class=\"dataframe\">\n",
              "  <thead>\n",
              "    <tr style=\"text-align: right;\">\n",
              "      <th></th>\n",
              "      <th>No Stroke</th>\n",
              "      <th>Stroke</th>\n",
              "    </tr>\n",
              "  </thead>\n",
              "  <tbody>\n",
              "    <tr>\n",
              "      <th>No Stroke</th>\n",
              "      <td>1242</td>\n",
              "      <td>374</td>\n",
              "    </tr>\n",
              "    <tr>\n",
              "      <th>Stroke</th>\n",
              "      <td>35</td>\n",
              "      <td>48</td>\n",
              "    </tr>\n",
              "  </tbody>\n",
              "</table>\n",
              "</div>\n",
              "      <button class=\"colab-df-convert\" onclick=\"convertToInteractive('df-5340792c-ee4b-4a44-92e2-b8b231c78bf5')\"\n",
              "              title=\"Convert this dataframe to an interactive table.\"\n",
              "              style=\"display:none;\">\n",
              "        \n",
              "  <svg xmlns=\"http://www.w3.org/2000/svg\" height=\"24px\"viewBox=\"0 0 24 24\"\n",
              "       width=\"24px\">\n",
              "    <path d=\"M0 0h24v24H0V0z\" fill=\"none\"/>\n",
              "    <path d=\"M18.56 5.44l.94 2.06.94-2.06 2.06-.94-2.06-.94-.94-2.06-.94 2.06-2.06.94zm-11 1L8.5 8.5l.94-2.06 2.06-.94-2.06-.94L8.5 2.5l-.94 2.06-2.06.94zm10 10l.94 2.06.94-2.06 2.06-.94-2.06-.94-.94-2.06-.94 2.06-2.06.94z\"/><path d=\"M17.41 7.96l-1.37-1.37c-.4-.4-.92-.59-1.43-.59-.52 0-1.04.2-1.43.59L10.3 9.45l-7.72 7.72c-.78.78-.78 2.05 0 2.83L4 21.41c.39.39.9.59 1.41.59.51 0 1.02-.2 1.41-.59l7.78-7.78 2.81-2.81c.8-.78.8-2.07 0-2.86zM5.41 20L4 18.59l7.72-7.72 1.47 1.35L5.41 20z\"/>\n",
              "  </svg>\n",
              "      </button>\n",
              "      \n",
              "  <style>\n",
              "    .colab-df-container {\n",
              "      display:flex;\n",
              "      flex-wrap:wrap;\n",
              "      gap: 12px;\n",
              "    }\n",
              "\n",
              "    .colab-df-convert {\n",
              "      background-color: #E8F0FE;\n",
              "      border: none;\n",
              "      border-radius: 50%;\n",
              "      cursor: pointer;\n",
              "      display: none;\n",
              "      fill: #1967D2;\n",
              "      height: 32px;\n",
              "      padding: 0 0 0 0;\n",
              "      width: 32px;\n",
              "    }\n",
              "\n",
              "    .colab-df-convert:hover {\n",
              "      background-color: #E2EBFA;\n",
              "      box-shadow: 0px 1px 2px rgba(60, 64, 67, 0.3), 0px 1px 3px 1px rgba(60, 64, 67, 0.15);\n",
              "      fill: #174EA6;\n",
              "    }\n",
              "\n",
              "    [theme=dark] .colab-df-convert {\n",
              "      background-color: #3B4455;\n",
              "      fill: #D2E3FC;\n",
              "    }\n",
              "\n",
              "    [theme=dark] .colab-df-convert:hover {\n",
              "      background-color: #434B5C;\n",
              "      box-shadow: 0px 1px 3px 1px rgba(0, 0, 0, 0.15);\n",
              "      filter: drop-shadow(0px 1px 2px rgba(0, 0, 0, 0.3));\n",
              "      fill: #FFFFFF;\n",
              "    }\n",
              "  </style>\n",
              "\n",
              "      <script>\n",
              "        const buttonEl =\n",
              "          document.querySelector('#df-5340792c-ee4b-4a44-92e2-b8b231c78bf5 button.colab-df-convert');\n",
              "        buttonEl.style.display =\n",
              "          google.colab.kernel.accessAllowed ? 'block' : 'none';\n",
              "\n",
              "        async function convertToInteractive(key) {\n",
              "          const element = document.querySelector('#df-5340792c-ee4b-4a44-92e2-b8b231c78bf5');\n",
              "          const dataTable =\n",
              "            await google.colab.kernel.invokeFunction('convertToInteractive',\n",
              "                                                     [key], {});\n",
              "          if (!dataTable) return;\n",
              "\n",
              "          const docLinkHtml = 'Like what you see? Visit the ' +\n",
              "            '<a target=\"_blank\" href=https://colab.research.google.com/notebooks/data_table.ipynb>data table notebook</a>'\n",
              "            + ' to learn more about interactive tables.';\n",
              "          element.innerHTML = '';\n",
              "          dataTable['output_type'] = 'display_data';\n",
              "          await google.colab.output.renderOutput(dataTable, element);\n",
              "          const docLink = document.createElement('div');\n",
              "          docLink.innerHTML = docLinkHtml;\n",
              "          element.appendChild(docLink);\n",
              "        }\n",
              "      </script>\n",
              "    </div>\n",
              "  </div>\n",
              "  "
            ]
          },
          "metadata": {},
          "execution_count": 188
        }
      ]
    },
    {
      "cell_type": "code",
      "source": [
        "print(classification_report(y_test, y_pred))"
      ],
      "metadata": {
        "colab": {
          "base_uri": "https://localhost:8080/"
        },
        "id": "Y3WamAVB8w-0",
        "outputId": "324a5f23-af1b-45f3-9002-b11631903809"
      },
      "execution_count": 189,
      "outputs": [
        {
          "output_type": "stream",
          "name": "stdout",
          "text": [
            "              precision    recall  f1-score   support\n",
            "\n",
            "           0       0.97      0.77      0.86      1616\n",
            "           1       0.11      0.58      0.19        83\n",
            "\n",
            "    accuracy                           0.76      1699\n",
            "   macro avg       0.54      0.67      0.52      1699\n",
            "weighted avg       0.93      0.76      0.83      1699\n",
            "\n"
          ]
        }
      ]
    }
  ]
}